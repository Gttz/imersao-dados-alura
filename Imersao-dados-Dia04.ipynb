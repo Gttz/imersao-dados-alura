{
 "cells": [
  {
   "cell_type": "markdown",
   "metadata": {},
   "source": [
    "## Imersão de Dados - Alura\n",
    "\n",
    "### Apresentação\n",
    "\n",
    "#### Autores\n",
    "1.   [Grupo Alura](https://www.alura.com.br) - A maior plataforma brasileira de cursos de tecnologia.\n",
    "2.   [Lucas Araújo](https://www.linkedin.com/in/lucasaraujo0255/) - Entusiasta de Data Science e cursando Ciências da Computação\n",
    "\n",
    "### Resumo\n",
    "\n",
    "Este documento tem o objetivo apresentar um estudo de Data Science oferecido na semana de Imersão de Dados da Alura (https://www.alura.com.br): uma análise exploratória sobre o Exame Nacional do Ensino Médio - o ENEM - na sua edição do ano de 2019 e criação de um modelo de Machine Learning utilizando o Python e as principais bibliotecas na área de Data Science.\n",
    "\n",
    "### Ferramentas Utilizadas\n",
    "A análise foi efetuada utilizando-se a linguagem de programação **Python** e suas bibliotecas para análise e processamento de dados **Pandas** e **NumPy**, bem como as bibliotecas **Matplotlib** e **Seaborn** para visualização de dados, além de API´s e outras bibliotecas que serão apresentadas no decorrer do documento.\n",
    "\n",
    "Os dados foram disponibilizados pela Alura e contém cerca de 128 mil registros de inscrições de alunos que realizaram as provas do ENEM 2019.\n",
    "\n",
    "Clique [Aqui](https://github.com/alura-cursos/imersao-dados-2-2020/blob/master/MICRODADOS_ENEM_2019_SAMPLE_43278.csv?raw=true.) para acessar os dados"
   ]
  },
  {
   "cell_type": "markdown",
   "metadata": {},
   "source": [
    "#### Desafios - Dia 04:\n",
    "\n",
    "**1**: Procurar outro modelo de ML para treinar e comparar com os modelos criados em aula\n",
    "\n",
    "**2**: Ler a documentação do Dummy e alterar o método de regressão\n",
    "\n",
    "**3**: Buscar outra métrica modelos de regressão"
   ]
  },
  {
   "cell_type": "code",
   "execution_count": 1,
   "metadata": {},
   "outputs": [],
   "source": [
    "import pandas as pd\n",
    "\n",
    "import matplotlib.pyplot as plt\n",
    "\n",
    "import seaborn as sns"
   ]
  },
  {
   "cell_type": "code",
   "execution_count": 2,
   "metadata": {
    "scrolled": true
   },
   "outputs": [
    {
     "data": {
      "text/html": [
       "<div>\n",
       "<style scoped>\n",
       "    .dataframe tbody tr th:only-of-type {\n",
       "        vertical-align: middle;\n",
       "    }\n",
       "\n",
       "    .dataframe tbody tr th {\n",
       "        vertical-align: top;\n",
       "    }\n",
       "\n",
       "    .dataframe thead th {\n",
       "        text-align: right;\n",
       "    }\n",
       "</style>\n",
       "<table border=\"1\" class=\"dataframe\">\n",
       "  <thead>\n",
       "    <tr style=\"text-align: right;\">\n",
       "      <th></th>\n",
       "      <th>NU_INSCRICAO</th>\n",
       "      <th>NU_ANO</th>\n",
       "      <th>CO_MUNICIPIO_RESIDENCIA</th>\n",
       "      <th>NO_MUNICIPIO_RESIDENCIA</th>\n",
       "      <th>CO_UF_RESIDENCIA</th>\n",
       "      <th>SG_UF_RESIDENCIA</th>\n",
       "      <th>NU_IDADE</th>\n",
       "      <th>TP_SEXO</th>\n",
       "      <th>TP_ESTADO_CIVIL</th>\n",
       "      <th>TP_COR_RACA</th>\n",
       "      <th>...</th>\n",
       "      <th>Q016</th>\n",
       "      <th>Q017</th>\n",
       "      <th>Q018</th>\n",
       "      <th>Q019</th>\n",
       "      <th>Q020</th>\n",
       "      <th>Q021</th>\n",
       "      <th>Q022</th>\n",
       "      <th>Q023</th>\n",
       "      <th>Q024</th>\n",
       "      <th>Q025</th>\n",
       "    </tr>\n",
       "  </thead>\n",
       "  <tbody>\n",
       "    <tr>\n",
       "      <td>0</td>\n",
       "      <td>190001004661</td>\n",
       "      <td>2019</td>\n",
       "      <td>1506138</td>\n",
       "      <td>Redenção</td>\n",
       "      <td>15</td>\n",
       "      <td>PA</td>\n",
       "      <td>17</td>\n",
       "      <td>M</td>\n",
       "      <td>1</td>\n",
       "      <td>3</td>\n",
       "      <td>...</td>\n",
       "      <td>A</td>\n",
       "      <td>A</td>\n",
       "      <td>A</td>\n",
       "      <td>A</td>\n",
       "      <td>B</td>\n",
       "      <td>A</td>\n",
       "      <td>C</td>\n",
       "      <td>A</td>\n",
       "      <td>B</td>\n",
       "      <td>B</td>\n",
       "    </tr>\n",
       "    <tr>\n",
       "      <td>1</td>\n",
       "      <td>190001004674</td>\n",
       "      <td>2019</td>\n",
       "      <td>1504208</td>\n",
       "      <td>Marabá</td>\n",
       "      <td>15</td>\n",
       "      <td>PA</td>\n",
       "      <td>23</td>\n",
       "      <td>M</td>\n",
       "      <td>1</td>\n",
       "      <td>3</td>\n",
       "      <td>...</td>\n",
       "      <td>A</td>\n",
       "      <td>A</td>\n",
       "      <td>A</td>\n",
       "      <td>B</td>\n",
       "      <td>A</td>\n",
       "      <td>A</td>\n",
       "      <td>B</td>\n",
       "      <td>A</td>\n",
       "      <td>A</td>\n",
       "      <td>B</td>\n",
       "    </tr>\n",
       "    <tr>\n",
       "      <td>2</td>\n",
       "      <td>190001004722</td>\n",
       "      <td>2019</td>\n",
       "      <td>1501402</td>\n",
       "      <td>Belém</td>\n",
       "      <td>15</td>\n",
       "      <td>PA</td>\n",
       "      <td>35</td>\n",
       "      <td>F</td>\n",
       "      <td>2</td>\n",
       "      <td>1</td>\n",
       "      <td>...</td>\n",
       "      <td>A</td>\n",
       "      <td>A</td>\n",
       "      <td>A</td>\n",
       "      <td>B</td>\n",
       "      <td>A</td>\n",
       "      <td>B</td>\n",
       "      <td>B</td>\n",
       "      <td>A</td>\n",
       "      <td>A</td>\n",
       "      <td>B</td>\n",
       "    </tr>\n",
       "    <tr>\n",
       "      <td>3</td>\n",
       "      <td>190001004735</td>\n",
       "      <td>2019</td>\n",
       "      <td>1507300</td>\n",
       "      <td>São Félix do Xingu</td>\n",
       "      <td>15</td>\n",
       "      <td>PA</td>\n",
       "      <td>23</td>\n",
       "      <td>F</td>\n",
       "      <td>1</td>\n",
       "      <td>3</td>\n",
       "      <td>...</td>\n",
       "      <td>A</td>\n",
       "      <td>A</td>\n",
       "      <td>A</td>\n",
       "      <td>B</td>\n",
       "      <td>A</td>\n",
       "      <td>A</td>\n",
       "      <td>B</td>\n",
       "      <td>A</td>\n",
       "      <td>A</td>\n",
       "      <td>B</td>\n",
       "    </tr>\n",
       "    <tr>\n",
       "      <td>4</td>\n",
       "      <td>190001004776</td>\n",
       "      <td>2019</td>\n",
       "      <td>1500800</td>\n",
       "      <td>Ananindeua</td>\n",
       "      <td>15</td>\n",
       "      <td>PA</td>\n",
       "      <td>16</td>\n",
       "      <td>F</td>\n",
       "      <td>1</td>\n",
       "      <td>3</td>\n",
       "      <td>...</td>\n",
       "      <td>A</td>\n",
       "      <td>A</td>\n",
       "      <td>A</td>\n",
       "      <td>B</td>\n",
       "      <td>A</td>\n",
       "      <td>A</td>\n",
       "      <td>D</td>\n",
       "      <td>A</td>\n",
       "      <td>A</td>\n",
       "      <td>B</td>\n",
       "    </tr>\n",
       "  </tbody>\n",
       "</table>\n",
       "<p>5 rows × 136 columns</p>\n",
       "</div>"
      ],
      "text/plain": [
       "   NU_INSCRICAO  NU_ANO  CO_MUNICIPIO_RESIDENCIA NO_MUNICIPIO_RESIDENCIA  \\\n",
       "0  190001004661    2019                  1506138                Redenção   \n",
       "1  190001004674    2019                  1504208                  Marabá   \n",
       "2  190001004722    2019                  1501402                   Belém   \n",
       "3  190001004735    2019                  1507300      São Félix do Xingu   \n",
       "4  190001004776    2019                  1500800              Ananindeua   \n",
       "\n",
       "   CO_UF_RESIDENCIA SG_UF_RESIDENCIA  NU_IDADE TP_SEXO  TP_ESTADO_CIVIL  \\\n",
       "0                15               PA        17       M                1   \n",
       "1                15               PA        23       M                1   \n",
       "2                15               PA        35       F                2   \n",
       "3                15               PA        23       F                1   \n",
       "4                15               PA        16       F                1   \n",
       "\n",
       "   TP_COR_RACA  ...  Q016  Q017 Q018  Q019 Q020  Q021  Q022  Q023  Q024  Q025  \n",
       "0            3  ...     A     A    A     A    B     A     C     A     B     B  \n",
       "1            3  ...     A     A    A     B    A     A     B     A     A     B  \n",
       "2            1  ...     A     A    A     B    A     B     B     A     A     B  \n",
       "3            3  ...     A     A    A     B    A     A     B     A     A     B  \n",
       "4            3  ...     A     A    A     B    A     A     D     A     A     B  \n",
       "\n",
       "[5 rows x 136 columns]"
      ]
     },
     "execution_count": 2,
     "metadata": {},
     "output_type": "execute_result"
    }
   ],
   "source": [
    "df = pd.read_csv('https://github.com/alura-cursos/imersao-dados-2-2020/blob/master/MICRODADOS_ENEM_2019_SAMPLE_43278.csv?raw=true')\n",
    "df.head()"
   ]
  },
  {
   "cell_type": "code",
   "execution_count": 3,
   "metadata": {},
   "outputs": [],
   "source": [
    "provas = [\"NU_NOTA_CN\", \"NU_NOTA_CH\", \"NU_NOTA_MT\", \"NU_NOTA_LC\", \"NU_NOTA_REDACAO\"]"
   ]
  },
  {
   "cell_type": "code",
   "execution_count": 4,
   "metadata": {},
   "outputs": [],
   "source": [
    "df[\"NU_NOTA_TOTAL\"] = df[provas].sum(axis = 1)"
   ]
  },
  {
   "cell_type": "code",
   "execution_count": 5,
   "metadata": {},
   "outputs": [],
   "source": [
    "df_sem_zero = df.query(\"NU_NOTA_TOTAL != 0\")\n",
    "df_sem_zero = df_sem_zero[provas].dropna()"
   ]
  },
  {
   "cell_type": "markdown",
   "metadata": {},
   "source": [
    "## [Aula 04](https://www.alura.com.br/imersao-dados/aula04-ml-machine-learning) - Machine Learning"
   ]
  },
  {
   "cell_type": "code",
   "execution_count": 6,
   "metadata": {},
   "outputs": [],
   "source": [
    "from sklearn.model_selection import train_test_split"
   ]
  },
  {
   "cell_type": "code",
   "execution_count": 7,
   "metadata": {},
   "outputs": [],
   "source": [
    "provas_X = [\"NU_NOTA_CH\", \"NU_NOTA_LC\", \"NU_NOTA_CN\", \"NU_NOTA_REDACAO\"]\n",
    "provas_y = \"NU_NOTA_MT\"\n",
    "\n",
    "X = df_sem_zero[provas_X]\n",
    "y = df_sem_zero[provas_y]"
   ]
  },
  {
   "cell_type": "code",
   "execution_count": 8,
   "metadata": {},
   "outputs": [],
   "source": [
    "X_train, X_test, y_train, y_test = train_test_split(X, y, test_size = 0.25, random_state = 1)"
   ]
  },
  {
   "cell_type": "code",
   "execution_count": 9,
   "metadata": {},
   "outputs": [
    {
     "data": {
      "text/plain": [
       "(69402, 4)"
      ]
     },
     "execution_count": 9,
     "metadata": {},
     "output_type": "execute_result"
    }
   ],
   "source": [
    "X_train.shape"
   ]
  },
  {
   "cell_type": "code",
   "execution_count": 10,
   "metadata": {},
   "outputs": [
    {
     "data": {
      "text/plain": [
       "69402"
      ]
     },
     "execution_count": 10,
     "metadata": {},
     "output_type": "execute_result"
    }
   ],
   "source": [
    "len(y_train)"
   ]
  },
  {
   "cell_type": "code",
   "execution_count": 11,
   "metadata": {},
   "outputs": [
    {
     "data": {
      "text/plain": [
       "(23135, 4)"
      ]
     },
     "execution_count": 11,
     "metadata": {},
     "output_type": "execute_result"
    }
   ],
   "source": [
    "X_test.shape"
   ]
  },
  {
   "cell_type": "code",
   "execution_count": 12,
   "metadata": {},
   "outputs": [
    {
     "data": {
      "text/plain": [
       "23135"
      ]
     },
     "execution_count": 12,
     "metadata": {},
     "output_type": "execute_result"
    }
   ],
   "source": [
    "len(y_test)"
   ]
  },
  {
   "cell_type": "code",
   "execution_count": 13,
   "metadata": {},
   "outputs": [],
   "source": [
    "from sklearn.svm import LinearSVR"
   ]
  },
  {
   "cell_type": "code",
   "execution_count": 14,
   "metadata": {},
   "outputs": [
    {
     "name": "stderr",
     "output_type": "stream",
     "text": [
      "C:\\Users\\Lucas\\Anaconda3\\lib\\site-packages\\sklearn\\svm\\base.py:931: ConvergenceWarning: Liblinear failed to converge, increase the number of iterations.\n",
      "  \"the number of iterations.\", ConvergenceWarning)\n"
     ]
    },
    {
     "data": {
      "text/plain": [
       "LinearSVR(C=1.0, dual=True, epsilon=0.0, fit_intercept=True,\n",
       "     intercept_scaling=1.0, loss='epsilon_insensitive', max_iter=1000,\n",
       "     random_state=1, tol=0.0001, verbose=0)"
      ]
     },
     "execution_count": 14,
     "metadata": {},
     "output_type": "execute_result"
    }
   ],
   "source": [
    "SVR = LinearSVR(random_state = 1)\n",
    "\n",
    "SVR.fit(X_train, y_train)"
   ]
  },
  {
   "cell_type": "code",
   "execution_count": 15,
   "metadata": {
    "scrolled": true
   },
   "outputs": [],
   "source": [
    "previsao_MT = SVR.predict(X_test)"
   ]
  },
  {
   "cell_type": "code",
   "execution_count": 16,
   "metadata": {},
   "outputs": [
    {
     "data": {
      "text/html": [
       "<div>\n",
       "<style scoped>\n",
       "    .dataframe tbody tr th:only-of-type {\n",
       "        vertical-align: middle;\n",
       "    }\n",
       "\n",
       "    .dataframe tbody tr th {\n",
       "        vertical-align: top;\n",
       "    }\n",
       "\n",
       "    .dataframe thead th {\n",
       "        text-align: right;\n",
       "    }\n",
       "</style>\n",
       "<table border=\"1\" class=\"dataframe\">\n",
       "  <thead>\n",
       "    <tr style=\"text-align: right;\">\n",
       "      <th></th>\n",
       "      <th>Real</th>\n",
       "      <th>Previsao</th>\n",
       "      <th>diferença</th>\n",
       "      <th>quadrado_diferenca</th>\n",
       "    </tr>\n",
       "  </thead>\n",
       "  <tbody>\n",
       "    <tr>\n",
       "      <td>30566</td>\n",
       "      <td>527.8</td>\n",
       "      <td>382.277936</td>\n",
       "      <td>145.522064</td>\n",
       "      <td>21176.671080</td>\n",
       "    </tr>\n",
       "    <tr>\n",
       "      <td>115803</td>\n",
       "      <td>686.8</td>\n",
       "      <td>455.222316</td>\n",
       "      <td>231.577684</td>\n",
       "      <td>53628.223819</td>\n",
       "    </tr>\n",
       "    <tr>\n",
       "      <td>31677</td>\n",
       "      <td>560.2</td>\n",
       "      <td>352.729019</td>\n",
       "      <td>207.470981</td>\n",
       "      <td>43044.208005</td>\n",
       "    </tr>\n",
       "    <tr>\n",
       "      <td>65110</td>\n",
       "      <td>484.8</td>\n",
       "      <td>373.672339</td>\n",
       "      <td>111.127661</td>\n",
       "      <td>12349.357120</td>\n",
       "    </tr>\n",
       "    <tr>\n",
       "      <td>12134</td>\n",
       "      <td>365.9</td>\n",
       "      <td>355.358831</td>\n",
       "      <td>10.541169</td>\n",
       "      <td>111.116238</td>\n",
       "    </tr>\n",
       "    <tr>\n",
       "      <td>...</td>\n",
       "      <td>...</td>\n",
       "      <td>...</td>\n",
       "      <td>...</td>\n",
       "      <td>...</td>\n",
       "    </tr>\n",
       "    <tr>\n",
       "      <td>19996</td>\n",
       "      <td>410.4</td>\n",
       "      <td>385.515193</td>\n",
       "      <td>24.884807</td>\n",
       "      <td>619.253624</td>\n",
       "    </tr>\n",
       "    <tr>\n",
       "      <td>28811</td>\n",
       "      <td>462.3</td>\n",
       "      <td>372.477555</td>\n",
       "      <td>89.822445</td>\n",
       "      <td>8068.071690</td>\n",
       "    </tr>\n",
       "    <tr>\n",
       "      <td>30542</td>\n",
       "      <td>521.5</td>\n",
       "      <td>390.526338</td>\n",
       "      <td>130.973662</td>\n",
       "      <td>17154.100237</td>\n",
       "    </tr>\n",
       "    <tr>\n",
       "      <td>59013</td>\n",
       "      <td>432.8</td>\n",
       "      <td>326.647717</td>\n",
       "      <td>106.152283</td>\n",
       "      <td>11268.307159</td>\n",
       "    </tr>\n",
       "    <tr>\n",
       "      <td>63004</td>\n",
       "      <td>397.5</td>\n",
       "      <td>316.626238</td>\n",
       "      <td>80.873762</td>\n",
       "      <td>6540.565309</td>\n",
       "    </tr>\n",
       "  </tbody>\n",
       "</table>\n",
       "<p>23135 rows × 4 columns</p>\n",
       "</div>"
      ],
      "text/plain": [
       "         Real    Previsao   diferença  quadrado_diferenca\n",
       "30566   527.8  382.277936  145.522064        21176.671080\n",
       "115803  686.8  455.222316  231.577684        53628.223819\n",
       "31677   560.2  352.729019  207.470981        43044.208005\n",
       "65110   484.8  373.672339  111.127661        12349.357120\n",
       "12134   365.9  355.358831   10.541169          111.116238\n",
       "...       ...         ...         ...                 ...\n",
       "19996   410.4  385.515193   24.884807          619.253624\n",
       "28811   462.3  372.477555   89.822445         8068.071690\n",
       "30542   521.5  390.526338  130.973662        17154.100237\n",
       "59013   432.8  326.647717  106.152283        11268.307159\n",
       "63004   397.5  316.626238   80.873762         6540.565309\n",
       "\n",
       "[23135 rows x 4 columns]"
      ]
     },
     "execution_count": 16,
     "metadata": {},
     "output_type": "execute_result"
    }
   ],
   "source": [
    "resultados = pd.DataFrame()\n",
    "resultados[\"Real\"] = y_test\n",
    "resultados[\"Previsao\"] = previsao_MT\n",
    "resultados[\"diferença\"] = resultados[\"Real\"] - resultados[\"Previsao\"]\n",
    "resultados[\"quadrado_diferenca\"] = (resultados[\"Real\"] - resultados[\"Previsao\"]) ** 2\n",
    "resultados"
   ]
  },
  {
   "cell_type": "code",
   "execution_count": 17,
   "metadata": {},
   "outputs": [
    {
     "data": {
      "text/plain": [
       "(-50, 1050)"
      ]
     },
     "execution_count": 17,
     "metadata": {},
     "output_type": "execute_result"
    },
    {
     "data": {
      "image/png": "[encoded data removed]",
      "text/plain": [
       "<Figure size 576x576 with 1 Axes>"
      ]
     },
     "metadata": {
      "needs_background": "light"
     },
     "output_type": "display_data"
    }
   ],
   "source": [
    "plt.figure(figsize = (8, 8))\n",
    "sns.scatterplot(x= y_test, y = y_test - previsao_MT)\n",
    "plt.xlim((-50, 1050))\n",
    "plt.ylim((-50, 1050))"
   ]
  },
  {
   "cell_type": "code",
   "execution_count": 18,
   "metadata": {},
   "outputs": [
    {
     "data": {
      "text/plain": [
       "23137.663031549255"
      ]
     },
     "execution_count": 18,
     "metadata": {},
     "output_type": "execute_result"
    }
   ],
   "source": [
    "resultados[\"quadrado_diferenca\"].mean()"
   ]
  },
  {
   "cell_type": "code",
   "execution_count": 19,
   "metadata": {},
   "outputs": [
    {
     "data": {
      "text/plain": [
       "152.1106933504323"
      ]
     },
     "execution_count": 19,
     "metadata": {},
     "output_type": "execute_result"
    }
   ],
   "source": [
    "resultados[\"quadrado_diferenca\"].mean()**(1/2)"
   ]
  },
  {
   "cell_type": "code",
   "execution_count": 20,
   "metadata": {},
   "outputs": [],
   "source": [
    "from sklearn.dummy import DummyRegressor\n",
    "\n",
    "SVR_dummy = DummyRegressor()\n",
    "SVR_dummy.fit(X_train, y_train)\n",
    "dummy_previsao = SVR.predict(X_test)"
   ]
  },
  {
   "cell_type": "code",
   "execution_count": 21,
   "metadata": {},
   "outputs": [
    {
     "data": {
      "text/plain": [
       "23137.66303154942"
      ]
     },
     "execution_count": 21,
     "metadata": {},
     "output_type": "execute_result"
    }
   ],
   "source": [
    "from sklearn.metrics import mean_squared_error\n",
    "\n",
    "mean_squared_error(y_test, dummy_previsao)"
   ]
  },
  {
   "cell_type": "code",
   "execution_count": 22,
   "metadata": {},
   "outputs": [
    {
     "data": {
      "text/plain": [
       "23137.66303154942"
      ]
     },
     "execution_count": 22,
     "metadata": {},
     "output_type": "execute_result"
    }
   ],
   "source": [
    "mean_squared_error(y_test, previsao_MT)"
   ]
  },
  {
   "cell_type": "markdown",
   "metadata": {},
   "source": [
    "#### Desafio 01 - Procurar outro modelo de ML para treinar e comparar com os modelos criados em aula"
   ]
  },
  {
   "cell_type": "code",
   "execution_count": 23,
   "metadata": {},
   "outputs": [],
   "source": [
    "from sklearn.metrics import mean_absolute_error, mean_squared_error, r2_score\n",
    "from sklearn.tree import DecisionTreeRegressor\n",
    "from sklearn.ensemble import RandomForestRegressor\n",
    "from sklearn.neural_network import MLPRegressor"
   ]
  },
  {
   "cell_type": "code",
   "execution_count": 24,
   "metadata": {},
   "outputs": [],
   "source": [
    "def resultados(previsao):\n",
    "    resultados = pd.DataFrame()\n",
    "    resultados[\"Real\"] = y_test\n",
    "    resultados[\"Previsao\"] = previsao\n",
    "    resultados[\"diferença\"] = resultados[\"Real\"] - resultados[\"Previsao\"]\n",
    "    resultados[\"quadrado_diferenca\"] = (resultados[\"Real\"] - resultados[\"Previsao\"]) ** 2\n",
    "    return resultados"
   ]
  },
  {
   "cell_type": "markdown",
   "metadata": {},
   "source": [
    "###### Decision Tree"
   ]
  },
  {
   "cell_type": "code",
   "execution_count": 25,
   "metadata": {
    "scrolled": true
   },
   "outputs": [
    {
     "data": {
      "text/plain": [
       "DecisionTreeRegressor(criterion='mse', max_depth=None, max_features=None,\n",
       "           max_leaf_nodes=None, min_impurity_decrease=0.0,\n",
       "           min_impurity_split=None, min_samples_leaf=1,\n",
       "           min_samples_split=2, min_weight_fraction_leaf=0.0,\n",
       "           presort=False, random_state=None, splitter='best')"
      ]
     },
     "execution_count": 25,
     "metadata": {},
     "output_type": "execute_result"
    }
   ],
   "source": [
    "DTR = DecisionTreeRegressor()\n",
    "\n",
    "DTR.fit(X_train, y_train)"
   ]
  },
  {
   "cell_type": "code",
   "execution_count": 26,
   "metadata": {},
   "outputs": [
    {
     "data": {
      "text/plain": [
       "1.0"
      ]
     },
     "execution_count": 26,
     "metadata": {},
     "output_type": "execute_result"
    }
   ],
   "source": [
    "score = DTR.score(X_train, y_train)\n",
    "score"
   ]
  },
  {
   "cell_type": "code",
   "execution_count": 27,
   "metadata": {},
   "outputs": [],
   "source": [
    "y_pred_DTR = DTR.predict(X_test)"
   ]
  },
  {
   "cell_type": "code",
   "execution_count": 28,
   "metadata": {},
   "outputs": [
    {
     "data": {
      "text/html": [
       "<div>\n",
       "<style scoped>\n",
       "    .dataframe tbody tr th:only-of-type {\n",
       "        vertical-align: middle;\n",
       "    }\n",
       "\n",
       "    .dataframe tbody tr th {\n",
       "        vertical-align: top;\n",
       "    }\n",
       "\n",
       "    .dataframe thead th {\n",
       "        text-align: right;\n",
       "    }\n",
       "</style>\n",
       "<table border=\"1\" class=\"dataframe\">\n",
       "  <thead>\n",
       "    <tr style=\"text-align: right;\">\n",
       "      <th></th>\n",
       "      <th>Real</th>\n",
       "      <th>Previsao</th>\n",
       "      <th>diferença</th>\n",
       "      <th>quadrado_diferenca</th>\n",
       "    </tr>\n",
       "  </thead>\n",
       "  <tbody>\n",
       "    <tr>\n",
       "      <td>30566</td>\n",
       "      <td>527.8</td>\n",
       "      <td>544.4</td>\n",
       "      <td>-16.6</td>\n",
       "      <td>275.56</td>\n",
       "    </tr>\n",
       "    <tr>\n",
       "      <td>115803</td>\n",
       "      <td>686.8</td>\n",
       "      <td>774.9</td>\n",
       "      <td>-88.1</td>\n",
       "      <td>7761.61</td>\n",
       "    </tr>\n",
       "    <tr>\n",
       "      <td>31677</td>\n",
       "      <td>560.2</td>\n",
       "      <td>412.2</td>\n",
       "      <td>148.0</td>\n",
       "      <td>21904.00</td>\n",
       "    </tr>\n",
       "    <tr>\n",
       "      <td>65110</td>\n",
       "      <td>484.8</td>\n",
       "      <td>615.8</td>\n",
       "      <td>-131.0</td>\n",
       "      <td>17161.00</td>\n",
       "    </tr>\n",
       "    <tr>\n",
       "      <td>12134</td>\n",
       "      <td>365.9</td>\n",
       "      <td>395.8</td>\n",
       "      <td>-29.9</td>\n",
       "      <td>894.01</td>\n",
       "    </tr>\n",
       "    <tr>\n",
       "      <td>...</td>\n",
       "      <td>...</td>\n",
       "      <td>...</td>\n",
       "      <td>...</td>\n",
       "      <td>...</td>\n",
       "    </tr>\n",
       "    <tr>\n",
       "      <td>19996</td>\n",
       "      <td>410.4</td>\n",
       "      <td>369.3</td>\n",
       "      <td>41.1</td>\n",
       "      <td>1689.21</td>\n",
       "    </tr>\n",
       "    <tr>\n",
       "      <td>28811</td>\n",
       "      <td>462.3</td>\n",
       "      <td>491.2</td>\n",
       "      <td>-28.9</td>\n",
       "      <td>835.21</td>\n",
       "    </tr>\n",
       "    <tr>\n",
       "      <td>30542</td>\n",
       "      <td>521.5</td>\n",
       "      <td>417.4</td>\n",
       "      <td>104.1</td>\n",
       "      <td>10836.81</td>\n",
       "    </tr>\n",
       "    <tr>\n",
       "      <td>59013</td>\n",
       "      <td>432.8</td>\n",
       "      <td>463.9</td>\n",
       "      <td>-31.1</td>\n",
       "      <td>967.21</td>\n",
       "    </tr>\n",
       "    <tr>\n",
       "      <td>63004</td>\n",
       "      <td>397.5</td>\n",
       "      <td>530.6</td>\n",
       "      <td>-133.1</td>\n",
       "      <td>17715.61</td>\n",
       "    </tr>\n",
       "  </tbody>\n",
       "</table>\n",
       "<p>23135 rows × 4 columns</p>\n",
       "</div>"
      ],
      "text/plain": [
       "         Real  Previsao  diferença  quadrado_diferenca\n",
       "30566   527.8     544.4      -16.6              275.56\n",
       "115803  686.8     774.9      -88.1             7761.61\n",
       "31677   560.2     412.2      148.0            21904.00\n",
       "65110   484.8     615.8     -131.0            17161.00\n",
       "12134   365.9     395.8      -29.9              894.01\n",
       "...       ...       ...        ...                 ...\n",
       "19996   410.4     369.3       41.1             1689.21\n",
       "28811   462.3     491.2      -28.9              835.21\n",
       "30542   521.5     417.4      104.1            10836.81\n",
       "59013   432.8     463.9      -31.1              967.21\n",
       "63004   397.5     530.6     -133.1            17715.61\n",
       "\n",
       "[23135 rows x 4 columns]"
      ]
     },
     "execution_count": 28,
     "metadata": {},
     "output_type": "execute_result"
    }
   ],
   "source": [
    "resultados(y_pred_DTR)"
   ]
  },
  {
   "cell_type": "code",
   "execution_count": 29,
   "metadata": {},
   "outputs": [],
   "source": [
    "mae_dtr = mean_absolute_error(y_test, y_pred_DTR)\n",
    "\n",
    "mse_dtr = mean_squared_error(y_test, y_pred_DTR)\n",
    "\n",
    "rsq_dtr =  r2_score(y_test, y_pred_DTR)"
   ]
  },
  {
   "cell_type": "code",
   "execution_count": 30,
   "metadata": {},
   "outputs": [
    {
     "data": {
      "text/plain": [
       "0.05445358941001732"
      ]
     },
     "execution_count": 30,
     "metadata": {},
     "output_type": "execute_result"
    }
   ],
   "source": [
    "DTR.score(X_test, y_test)"
   ]
  },
  {
   "cell_type": "markdown",
   "metadata": {},
   "source": [
    "###### Random Forest"
   ]
  },
  {
   "cell_type": "code",
   "execution_count": 31,
   "metadata": {},
   "outputs": [],
   "source": [
    "RFR = RandomForestRegressor(n_estimators=100)"
   ]
  },
  {
   "cell_type": "code",
   "execution_count": 32,
   "metadata": {},
   "outputs": [
    {
     "data": {
      "text/plain": [
       "RandomForestRegressor(bootstrap=True, criterion='mse', max_depth=None,\n",
       "           max_features='auto', max_leaf_nodes=None,\n",
       "           min_impurity_decrease=0.0, min_impurity_split=None,\n",
       "           min_samples_leaf=1, min_samples_split=2,\n",
       "           min_weight_fraction_leaf=0.0, n_estimators=100, n_jobs=None,\n",
       "           oob_score=False, random_state=None, verbose=0, warm_start=False)"
      ]
     },
     "execution_count": 32,
     "metadata": {},
     "output_type": "execute_result"
    }
   ],
   "source": [
    "RFR.fit(X_train, y_train)"
   ]
  },
  {
   "cell_type": "code",
   "execution_count": 33,
   "metadata": {},
   "outputs": [
    {
     "data": {
      "text/plain": [
       "0.932049457771263"
      ]
     },
     "execution_count": 33,
     "metadata": {},
     "output_type": "execute_result"
    }
   ],
   "source": [
    "score = RFR.score(X_train, y_train)\n",
    "score"
   ]
  },
  {
   "cell_type": "code",
   "execution_count": 34,
   "metadata": {},
   "outputs": [],
   "source": [
    "y_pred_RFR = RFR.predict(X_test)"
   ]
  },
  {
   "cell_type": "code",
   "execution_count": 35,
   "metadata": {},
   "outputs": [
    {
     "data": {
      "text/html": [
       "<div>\n",
       "<style scoped>\n",
       "    .dataframe tbody tr th:only-of-type {\n",
       "        vertical-align: middle;\n",
       "    }\n",
       "\n",
       "    .dataframe tbody tr th {\n",
       "        vertical-align: top;\n",
       "    }\n",
       "\n",
       "    .dataframe thead th {\n",
       "        text-align: right;\n",
       "    }\n",
       "</style>\n",
       "<table border=\"1\" class=\"dataframe\">\n",
       "  <thead>\n",
       "    <tr style=\"text-align: right;\">\n",
       "      <th></th>\n",
       "      <th>Real</th>\n",
       "      <th>Previsao</th>\n",
       "      <th>diferença</th>\n",
       "      <th>quadrado_diferenca</th>\n",
       "    </tr>\n",
       "  </thead>\n",
       "  <tbody>\n",
       "    <tr>\n",
       "      <td>30566</td>\n",
       "      <td>527.8</td>\n",
       "      <td>506.487</td>\n",
       "      <td>21.313</td>\n",
       "      <td>454.243969</td>\n",
       "    </tr>\n",
       "    <tr>\n",
       "      <td>115803</td>\n",
       "      <td>686.8</td>\n",
       "      <td>686.152</td>\n",
       "      <td>0.648</td>\n",
       "      <td>0.419904</td>\n",
       "    </tr>\n",
       "    <tr>\n",
       "      <td>31677</td>\n",
       "      <td>560.2</td>\n",
       "      <td>457.729</td>\n",
       "      <td>102.471</td>\n",
       "      <td>10500.305841</td>\n",
       "    </tr>\n",
       "    <tr>\n",
       "      <td>65110</td>\n",
       "      <td>484.8</td>\n",
       "      <td>488.462</td>\n",
       "      <td>-3.662</td>\n",
       "      <td>13.410244</td>\n",
       "    </tr>\n",
       "    <tr>\n",
       "      <td>12134</td>\n",
       "      <td>365.9</td>\n",
       "      <td>463.977</td>\n",
       "      <td>-98.077</td>\n",
       "      <td>9619.097929</td>\n",
       "    </tr>\n",
       "    <tr>\n",
       "      <td>...</td>\n",
       "      <td>...</td>\n",
       "      <td>...</td>\n",
       "      <td>...</td>\n",
       "      <td>...</td>\n",
       "    </tr>\n",
       "    <tr>\n",
       "      <td>19996</td>\n",
       "      <td>410.4</td>\n",
       "      <td>471.335</td>\n",
       "      <td>-60.935</td>\n",
       "      <td>3713.074225</td>\n",
       "    </tr>\n",
       "    <tr>\n",
       "      <td>28811</td>\n",
       "      <td>462.3</td>\n",
       "      <td>457.862</td>\n",
       "      <td>4.438</td>\n",
       "      <td>19.695844</td>\n",
       "    </tr>\n",
       "    <tr>\n",
       "      <td>30542</td>\n",
       "      <td>521.5</td>\n",
       "      <td>477.016</td>\n",
       "      <td>44.484</td>\n",
       "      <td>1978.826256</td>\n",
       "    </tr>\n",
       "    <tr>\n",
       "      <td>59013</td>\n",
       "      <td>432.8</td>\n",
       "      <td>439.479</td>\n",
       "      <td>-6.679</td>\n",
       "      <td>44.609041</td>\n",
       "    </tr>\n",
       "    <tr>\n",
       "      <td>63004</td>\n",
       "      <td>397.5</td>\n",
       "      <td>507.052</td>\n",
       "      <td>-109.552</td>\n",
       "      <td>12001.640704</td>\n",
       "    </tr>\n",
       "  </tbody>\n",
       "</table>\n",
       "<p>23135 rows × 4 columns</p>\n",
       "</div>"
      ],
      "text/plain": [
       "         Real  Previsao  diferença  quadrado_diferenca\n",
       "30566   527.8   506.487     21.313          454.243969\n",
       "115803  686.8   686.152      0.648            0.419904\n",
       "31677   560.2   457.729    102.471        10500.305841\n",
       "65110   484.8   488.462     -3.662           13.410244\n",
       "12134   365.9   463.977    -98.077         9619.097929\n",
       "...       ...       ...        ...                 ...\n",
       "19996   410.4   471.335    -60.935         3713.074225\n",
       "28811   462.3   457.862      4.438           19.695844\n",
       "30542   521.5   477.016     44.484         1978.826256\n",
       "59013   432.8   439.479     -6.679           44.609041\n",
       "63004   397.5   507.052   -109.552        12001.640704\n",
       "\n",
       "[23135 rows x 4 columns]"
      ]
     },
     "execution_count": 35,
     "metadata": {},
     "output_type": "execute_result"
    }
   ],
   "source": [
    "resultados(y_pred_RFR)"
   ]
  },
  {
   "cell_type": "code",
   "execution_count": 36,
   "metadata": {},
   "outputs": [],
   "source": [
    "mae_rfr = mean_absolute_error(y_test, y_pred_RFR)\n",
    "\n",
    "mse_rfr = mean_squared_error(y_test, y_pred_RFR)\n",
    "\n",
    "rsq_rfr =  r2_score(y_test, y_pred_RFR)"
   ]
  },
  {
   "cell_type": "code",
   "execution_count": 37,
   "metadata": {},
   "outputs": [
    {
     "data": {
      "text/plain": [
       "0.5164363301882484"
      ]
     },
     "execution_count": 37,
     "metadata": {},
     "output_type": "execute_result"
    }
   ],
   "source": [
    "RFR.score(X_test, y_test)"
   ]
  },
  {
   "cell_type": "markdown",
   "metadata": {},
   "source": [
    "###### Neural Networks"
   ]
  },
  {
   "cell_type": "code",
   "execution_count": 38,
   "metadata": {},
   "outputs": [],
   "source": [
    "RNR = MLPRegressor(hidden_layer_sizes=(9,9))"
   ]
  },
  {
   "cell_type": "code",
   "execution_count": 39,
   "metadata": {},
   "outputs": [
    {
     "data": {
      "text/plain": [
       "MLPRegressor(activation='relu', alpha=0.0001, batch_size='auto', beta_1=0.9,\n",
       "       beta_2=0.999, early_stopping=False, epsilon=1e-08,\n",
       "       hidden_layer_sizes=(9, 9), learning_rate='constant',\n",
       "       learning_rate_init=0.001, max_iter=200, momentum=0.9,\n",
       "       n_iter_no_change=10, nesterovs_momentum=True, power_t=0.5,\n",
       "       random_state=None, shuffle=True, solver='adam', tol=0.0001,\n",
       "       validation_fraction=0.1, verbose=False, warm_start=False)"
      ]
     },
     "execution_count": 39,
     "metadata": {},
     "output_type": "execute_result"
    }
   ],
   "source": [
    "RNR.fit(X_train, y_train)"
   ]
  },
  {
   "cell_type": "code",
   "execution_count": 40,
   "metadata": {},
   "outputs": [
    {
     "data": {
      "text/plain": [
       "0.5106822145157667"
      ]
     },
     "execution_count": 40,
     "metadata": {},
     "output_type": "execute_result"
    }
   ],
   "source": [
    "score = RNR.score(X_train, y_train)\n",
    "score"
   ]
  },
  {
   "cell_type": "code",
   "execution_count": 41,
   "metadata": {},
   "outputs": [],
   "source": [
    "y_pred_RNR = RNR.predict(X_test)"
   ]
  },
  {
   "cell_type": "code",
   "execution_count": 42,
   "metadata": {},
   "outputs": [
    {
     "data": {
      "text/html": [
       "<div>\n",
       "<style scoped>\n",
       "    .dataframe tbody tr th:only-of-type {\n",
       "        vertical-align: middle;\n",
       "    }\n",
       "\n",
       "    .dataframe tbody tr th {\n",
       "        vertical-align: top;\n",
       "    }\n",
       "\n",
       "    .dataframe thead th {\n",
       "        text-align: right;\n",
       "    }\n",
       "</style>\n",
       "<table border=\"1\" class=\"dataframe\">\n",
       "  <thead>\n",
       "    <tr style=\"text-align: right;\">\n",
       "      <th></th>\n",
       "      <th>Real</th>\n",
       "      <th>Previsao</th>\n",
       "      <th>diferença</th>\n",
       "      <th>quadrado_diferenca</th>\n",
       "    </tr>\n",
       "  </thead>\n",
       "  <tbody>\n",
       "    <tr>\n",
       "      <td>30566</td>\n",
       "      <td>527.8</td>\n",
       "      <td>509.191073</td>\n",
       "      <td>18.608927</td>\n",
       "      <td>346.292157</td>\n",
       "    </tr>\n",
       "    <tr>\n",
       "      <td>115803</td>\n",
       "      <td>686.8</td>\n",
       "      <td>644.784539</td>\n",
       "      <td>42.015461</td>\n",
       "      <td>1765.298972</td>\n",
       "    </tr>\n",
       "    <tr>\n",
       "      <td>31677</td>\n",
       "      <td>560.2</td>\n",
       "      <td>441.852166</td>\n",
       "      <td>118.347834</td>\n",
       "      <td>14006.209917</td>\n",
       "    </tr>\n",
       "    <tr>\n",
       "      <td>65110</td>\n",
       "      <td>484.8</td>\n",
       "      <td>502.599664</td>\n",
       "      <td>-17.799664</td>\n",
       "      <td>316.828041</td>\n",
       "    </tr>\n",
       "    <tr>\n",
       "      <td>12134</td>\n",
       "      <td>365.9</td>\n",
       "      <td>450.275716</td>\n",
       "      <td>-84.375716</td>\n",
       "      <td>7119.261481</td>\n",
       "    </tr>\n",
       "    <tr>\n",
       "      <td>...</td>\n",
       "      <td>...</td>\n",
       "      <td>...</td>\n",
       "      <td>...</td>\n",
       "      <td>...</td>\n",
       "    </tr>\n",
       "    <tr>\n",
       "      <td>19996</td>\n",
       "      <td>410.4</td>\n",
       "      <td>501.735871</td>\n",
       "      <td>-91.335871</td>\n",
       "      <td>8342.241390</td>\n",
       "    </tr>\n",
       "    <tr>\n",
       "      <td>28811</td>\n",
       "      <td>462.3</td>\n",
       "      <td>501.380465</td>\n",
       "      <td>-39.080465</td>\n",
       "      <td>1527.282760</td>\n",
       "    </tr>\n",
       "    <tr>\n",
       "      <td>30542</td>\n",
       "      <td>521.5</td>\n",
       "      <td>515.324876</td>\n",
       "      <td>6.175124</td>\n",
       "      <td>38.132159</td>\n",
       "    </tr>\n",
       "    <tr>\n",
       "      <td>59013</td>\n",
       "      <td>432.8</td>\n",
       "      <td>432.774701</td>\n",
       "      <td>0.025299</td>\n",
       "      <td>0.000640</td>\n",
       "    </tr>\n",
       "    <tr>\n",
       "      <td>63004</td>\n",
       "      <td>397.5</td>\n",
       "      <td>489.320054</td>\n",
       "      <td>-91.820054</td>\n",
       "      <td>8430.922317</td>\n",
       "    </tr>\n",
       "  </tbody>\n",
       "</table>\n",
       "<p>23135 rows × 4 columns</p>\n",
       "</div>"
      ],
      "text/plain": [
       "         Real    Previsao   diferença  quadrado_diferenca\n",
       "30566   527.8  509.191073   18.608927          346.292157\n",
       "115803  686.8  644.784539   42.015461         1765.298972\n",
       "31677   560.2  441.852166  118.347834        14006.209917\n",
       "65110   484.8  502.599664  -17.799664          316.828041\n",
       "12134   365.9  450.275716  -84.375716         7119.261481\n",
       "...       ...         ...         ...                 ...\n",
       "19996   410.4  501.735871  -91.335871         8342.241390\n",
       "28811   462.3  501.380465  -39.080465         1527.282760\n",
       "30542   521.5  515.324876    6.175124           38.132159\n",
       "59013   432.8  432.774701    0.025299            0.000640\n",
       "63004   397.5  489.320054  -91.820054         8430.922317\n",
       "\n",
       "[23135 rows x 4 columns]"
      ]
     },
     "execution_count": 42,
     "metadata": {},
     "output_type": "execute_result"
    }
   ],
   "source": [
    "resultados(y_pred_RNR)"
   ]
  },
  {
   "cell_type": "code",
   "execution_count": 43,
   "metadata": {},
   "outputs": [],
   "source": [
    "mae_rnr = mean_absolute_error(y_test, y_pred_RNR)\n",
    "\n",
    "mse_rnr = mean_squared_error(y_test, y_pred_RNR)\n",
    "\n",
    "rsq_rnr =  r2_score(y_test, y_pred_RNR)"
   ]
  },
  {
   "cell_type": "code",
   "execution_count": 44,
   "metadata": {},
   "outputs": [
    {
     "data": {
      "text/plain": [
       "0.5127083127593465"
      ]
     },
     "execution_count": 44,
     "metadata": {},
     "output_type": "execute_result"
    }
   ],
   "source": [
    "RNR.score(X_test, y_test)"
   ]
  },
  {
   "cell_type": "markdown",
   "metadata": {},
   "source": [
    "###### Comparação dos Modelos usados:"
   ]
  },
  {
   "cell_type": "code",
   "execution_count": 45,
   "metadata": {},
   "outputs": [
    {
     "data": {
      "text/html": [
       "<div>\n",
       "<style scoped>\n",
       "    .dataframe tbody tr th:only-of-type {\n",
       "        vertical-align: middle;\n",
       "    }\n",
       "\n",
       "    .dataframe tbody tr th {\n",
       "        vertical-align: top;\n",
       "    }\n",
       "\n",
       "    .dataframe thead th {\n",
       "        text-align: right;\n",
       "    }\n",
       "</style>\n",
       "<table border=\"1\" class=\"dataframe\">\n",
       "  <thead>\n",
       "    <tr style=\"text-align: right;\">\n",
       "      <th></th>\n",
       "      <th>Modelo</th>\n",
       "      <th>MAE</th>\n",
       "      <th>MSE</th>\n",
       "      <th>R²</th>\n",
       "    </tr>\n",
       "  </thead>\n",
       "  <tbody>\n",
       "    <tr>\n",
       "      <td>0</td>\n",
       "      <td>Decision Tree</td>\n",
       "      <td>83.446099</td>\n",
       "      <td>11219.271764</td>\n",
       "      <td>0.054454</td>\n",
       "    </tr>\n",
       "    <tr>\n",
       "      <td>1</td>\n",
       "      <td>Random Forest</td>\n",
       "      <td>60.516814</td>\n",
       "      <td>5737.668893</td>\n",
       "      <td>0.516436</td>\n",
       "    </tr>\n",
       "    <tr>\n",
       "      <td>2</td>\n",
       "      <td>Neural Networks</td>\n",
       "      <td>61.587786</td>\n",
       "      <td>5781.903253</td>\n",
       "      <td>0.512708</td>\n",
       "    </tr>\n",
       "  </tbody>\n",
       "</table>\n",
       "</div>"
      ],
      "text/plain": [
       "            Modelo        MAE           MSE        R²\n",
       "0    Decision Tree  83.446099  11219.271764  0.054454\n",
       "1    Random Forest  60.516814   5737.668893  0.516436\n",
       "2  Neural Networks  61.587786   5781.903253  0.512708"
      ]
     },
     "execution_count": 45,
     "metadata": {},
     "output_type": "execute_result"
    }
   ],
   "source": [
    "modelos = [('Decision Tree', mae_dtr, mse_dtr, rsq_dtr), \n",
    "          ('Random Forest', mae_rfr, mse_rfr, rsq_rfr),\n",
    "          ('Neural Networks', mae_rnr, mse_rnr, rsq_rnr)]\n",
    "\n",
    "df_comparando_modelos = pd.DataFrame(modelos, columns = ['Modelo', 'MAE', 'MSE', 'R²'])\n",
    "\n",
    "df_comparando_modelos.head()"
   ]
  },
  {
   "cell_type": "markdown",
   "metadata": {},
   "source": [
    "#### Desafio 02: Ler a documentação do Dummy e alterar o método de regressão"
   ]
  },
  {
   "cell_type": "code",
   "execution_count": 46,
   "metadata": {},
   "outputs": [],
   "source": [
    "DR = DummyRegressor(strategy='median')\n",
    "DR.fit(X_train, y_train)\n",
    "y_pred_DR = DR.predict(X_test)"
   ]
  },
  {
   "cell_type": "code",
   "execution_count": 47,
   "metadata": {},
   "outputs": [
    {
     "data": {
      "text/plain": [
       "12310.138822563216"
      ]
     },
     "execution_count": 47,
     "metadata": {},
     "output_type": "execute_result"
    }
   ],
   "source": [
    "mean_squared_error(y_test, y_pred_DR)"
   ]
  },
  {
   "cell_type": "markdown",
   "metadata": {},
   "source": [
    "#### Desafio 03: Buscar outra métrica modelos de regressão"
   ]
  },
  {
   "cell_type": "code",
   "execution_count": 48,
   "metadata": {},
   "outputs": [
    {
     "data": {
      "text/html": [
       "<div>\n",
       "<style scoped>\n",
       "    .dataframe tbody tr th:only-of-type {\n",
       "        vertical-align: middle;\n",
       "    }\n",
       "\n",
       "    .dataframe tbody tr th {\n",
       "        vertical-align: top;\n",
       "    }\n",
       "\n",
       "    .dataframe thead th {\n",
       "        text-align: right;\n",
       "    }\n",
       "</style>\n",
       "<table border=\"1\" class=\"dataframe\">\n",
       "  <thead>\n",
       "    <tr style=\"text-align: right;\">\n",
       "      <th></th>\n",
       "      <th>Modelo</th>\n",
       "      <th>MAE</th>\n",
       "      <th>MSE</th>\n",
       "      <th>R²</th>\n",
       "    </tr>\n",
       "  </thead>\n",
       "  <tbody>\n",
       "    <tr>\n",
       "      <td>0</td>\n",
       "      <td>Decision Tree</td>\n",
       "      <td>83.446099</td>\n",
       "      <td>11219.271764</td>\n",
       "      <td>0.054454</td>\n",
       "    </tr>\n",
       "    <tr>\n",
       "      <td>1</td>\n",
       "      <td>Random Forest</td>\n",
       "      <td>60.516814</td>\n",
       "      <td>5737.668893</td>\n",
       "      <td>0.516436</td>\n",
       "    </tr>\n",
       "    <tr>\n",
       "      <td>2</td>\n",
       "      <td>Neural Networks</td>\n",
       "      <td>61.587786</td>\n",
       "      <td>5781.903253</td>\n",
       "      <td>0.512708</td>\n",
       "    </tr>\n",
       "  </tbody>\n",
       "</table>\n",
       "</div>"
      ],
      "text/plain": [
       "            Modelo        MAE           MSE        R²\n",
       "0    Decision Tree  83.446099  11219.271764  0.054454\n",
       "1    Random Forest  60.516814   5737.668893  0.516436\n",
       "2  Neural Networks  61.587786   5781.903253  0.512708"
      ]
     },
     "execution_count": 48,
     "metadata": {},
     "output_type": "execute_result"
    }
   ],
   "source": [
    "modelos = [('Decision Tree', mae_dtr, mse_dtr, rsq_dtr), \n",
    "          ('Random Forest', mae_rfr, mse_rfr, rsq_rfr),\n",
    "          ('Neural Networks', mae_rnr, mse_rnr, rsq_rnr)]\n",
    "\n",
    "df_comparando_modelos = pd.DataFrame(modelos, columns = ['Modelo', 'MAE', 'MSE', 'R²'])\n",
    "\n",
    "df_comparando_modelos.head()"
   ]
  }
 ],
 "metadata": {
  "kernelspec": {
   "display_name": "Python 3",
   "language": "python",
   "name": "python3"
  },
  "language_info": {
   "codemirror_mode": {
    "name": "ipython",
    "version": 3
   },
   "file_extension": ".py",
   "mimetype": "text/x-python",
   "name": "python",
   "nbconvert_exporter": "python",
   "pygments_lexer": "ipython3",
   "version": "3.7.4"
  }
 },
 "nbformat": 4,
 "nbformat_minor": 2
}
