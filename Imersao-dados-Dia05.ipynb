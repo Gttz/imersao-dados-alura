{
 "cells": [
  {
   "cell_type": "markdown",
   "metadata": {},
   "source": [
    "## Imersão de Dados - Alura\n",
    "\n",
    "### Apresentação\n",
    "\n",
    "#### Autores\n",
    "1.   [Grupo Alura](https://www.alura.com.br) - A maior plataforma brasileira de cursos de tecnologia.\n",
    "2.   [Lucas Araújo](https://www.linkedin.com/in/lucasaraujo0255/) - Entusiasta de Data Science e cursando Ciências da Computação\n",
    "\n",
    "### Resumo\n",
    "\n",
    "Este documento tem o objetivo apresentar um estudo de Data Science oferecido na semana de Imersão de Dados da Alura (https://www.alura.com.br): uma análise exploratória sobre o Exame Nacional do Ensino Médio - o ENEM - na sua edição do ano de 2019 e criação de um modelo de Machine Learning utilizando o Python e as principais bibliotecas na área de Data Science.\n",
    "\n",
    "### Ferramentas Utilizadas\n",
    "A análise foi efetuada utilizando-se a linguagem de programação **Python** e suas bibliotecas para análise e processamento de dados **Pandas** e **NumPy**, bem como as bibliotecas **Matplotlib** e **Seaborn** para visualização de dados, além de API´s e outras bibliotecas que serão apresentadas no decorrer do documento.\n",
    "\n",
    "Os dados foram disponibilizados pela Alura e contém cerca de 128 mil registros de inscrições de alunos que realizaram as provas do ENEM 2019.\n",
    "\n",
    "Clique [Aqui](https://github.com/alura-cursos/imersao-dados-2-2020/blob/master/MICRODADOS_ENEM_2019_SAMPLE_43278.csv?raw=true.) para acessar os dados"
   ]
  },
  {
   "cell_type": "markdown",
   "metadata": {},
   "source": [
    "#### Desafios - Dia 05:\n",
    "\n",
    "**1**: Pesquisar sobre intervalo de confiança\n",
    "\n",
    "**2**: Testar com outros parâmetros a árvore de decisão\n",
    "\n",
    "**3**: Procurar outras formas de realizar os ajustes de parâmetros com o Sklearn\n",
    "\n",
    "**4**: Pesquisar oque é o problema de underfit\n",
    "\n",
    "**5**: Plotar um gráfico com test_score e train_test"
   ]
  },
  {
   "cell_type": "code",
   "execution_count": 1,
   "metadata": {},
   "outputs": [],
   "source": [
    "import pandas as pd\n",
    "\n",
    "import matplotlib.pyplot as plt\n",
    "\n",
    "import seaborn as sns"
   ]
  },
  {
   "cell_type": "code",
   "execution_count": 2,
   "metadata": {},
   "outputs": [
    {
     "data": {
      "text/html": [
       "<div>\n",
       "<style scoped>\n",
       "    .dataframe tbody tr th:only-of-type {\n",
       "        vertical-align: middle;\n",
       "    }\n",
       "\n",
       "    .dataframe tbody tr th {\n",
       "        vertical-align: top;\n",
       "    }\n",
       "\n",
       "    .dataframe thead th {\n",
       "        text-align: right;\n",
       "    }\n",
       "</style>\n",
       "<table border=\"1\" class=\"dataframe\">\n",
       "  <thead>\n",
       "    <tr style=\"text-align: right;\">\n",
       "      <th></th>\n",
       "      <th>NU_INSCRICAO</th>\n",
       "      <th>NU_ANO</th>\n",
       "      <th>CO_MUNICIPIO_RESIDENCIA</th>\n",
       "      <th>NO_MUNICIPIO_RESIDENCIA</th>\n",
       "      <th>CO_UF_RESIDENCIA</th>\n",
       "      <th>SG_UF_RESIDENCIA</th>\n",
       "      <th>NU_IDADE</th>\n",
       "      <th>TP_SEXO</th>\n",
       "      <th>TP_ESTADO_CIVIL</th>\n",
       "      <th>TP_COR_RACA</th>\n",
       "      <th>...</th>\n",
       "      <th>Q016</th>\n",
       "      <th>Q017</th>\n",
       "      <th>Q018</th>\n",
       "      <th>Q019</th>\n",
       "      <th>Q020</th>\n",
       "      <th>Q021</th>\n",
       "      <th>Q022</th>\n",
       "      <th>Q023</th>\n",
       "      <th>Q024</th>\n",
       "      <th>Q025</th>\n",
       "    </tr>\n",
       "  </thead>\n",
       "  <tbody>\n",
       "    <tr>\n",
       "      <td>0</td>\n",
       "      <td>190001004661</td>\n",
       "      <td>2019</td>\n",
       "      <td>1506138</td>\n",
       "      <td>Redenção</td>\n",
       "      <td>15</td>\n",
       "      <td>PA</td>\n",
       "      <td>17</td>\n",
       "      <td>M</td>\n",
       "      <td>1</td>\n",
       "      <td>3</td>\n",
       "      <td>...</td>\n",
       "      <td>A</td>\n",
       "      <td>A</td>\n",
       "      <td>A</td>\n",
       "      <td>A</td>\n",
       "      <td>B</td>\n",
       "      <td>A</td>\n",
       "      <td>C</td>\n",
       "      <td>A</td>\n",
       "      <td>B</td>\n",
       "      <td>B</td>\n",
       "    </tr>\n",
       "    <tr>\n",
       "      <td>1</td>\n",
       "      <td>190001004674</td>\n",
       "      <td>2019</td>\n",
       "      <td>1504208</td>\n",
       "      <td>Marabá</td>\n",
       "      <td>15</td>\n",
       "      <td>PA</td>\n",
       "      <td>23</td>\n",
       "      <td>M</td>\n",
       "      <td>1</td>\n",
       "      <td>3</td>\n",
       "      <td>...</td>\n",
       "      <td>A</td>\n",
       "      <td>A</td>\n",
       "      <td>A</td>\n",
       "      <td>B</td>\n",
       "      <td>A</td>\n",
       "      <td>A</td>\n",
       "      <td>B</td>\n",
       "      <td>A</td>\n",
       "      <td>A</td>\n",
       "      <td>B</td>\n",
       "    </tr>\n",
       "    <tr>\n",
       "      <td>2</td>\n",
       "      <td>190001004722</td>\n",
       "      <td>2019</td>\n",
       "      <td>1501402</td>\n",
       "      <td>Belém</td>\n",
       "      <td>15</td>\n",
       "      <td>PA</td>\n",
       "      <td>35</td>\n",
       "      <td>F</td>\n",
       "      <td>2</td>\n",
       "      <td>1</td>\n",
       "      <td>...</td>\n",
       "      <td>A</td>\n",
       "      <td>A</td>\n",
       "      <td>A</td>\n",
       "      <td>B</td>\n",
       "      <td>A</td>\n",
       "      <td>B</td>\n",
       "      <td>B</td>\n",
       "      <td>A</td>\n",
       "      <td>A</td>\n",
       "      <td>B</td>\n",
       "    </tr>\n",
       "    <tr>\n",
       "      <td>3</td>\n",
       "      <td>190001004735</td>\n",
       "      <td>2019</td>\n",
       "      <td>1507300</td>\n",
       "      <td>São Félix do Xingu</td>\n",
       "      <td>15</td>\n",
       "      <td>PA</td>\n",
       "      <td>23</td>\n",
       "      <td>F</td>\n",
       "      <td>1</td>\n",
       "      <td>3</td>\n",
       "      <td>...</td>\n",
       "      <td>A</td>\n",
       "      <td>A</td>\n",
       "      <td>A</td>\n",
       "      <td>B</td>\n",
       "      <td>A</td>\n",
       "      <td>A</td>\n",
       "      <td>B</td>\n",
       "      <td>A</td>\n",
       "      <td>A</td>\n",
       "      <td>B</td>\n",
       "    </tr>\n",
       "    <tr>\n",
       "      <td>4</td>\n",
       "      <td>190001004776</td>\n",
       "      <td>2019</td>\n",
       "      <td>1500800</td>\n",
       "      <td>Ananindeua</td>\n",
       "      <td>15</td>\n",
       "      <td>PA</td>\n",
       "      <td>16</td>\n",
       "      <td>F</td>\n",
       "      <td>1</td>\n",
       "      <td>3</td>\n",
       "      <td>...</td>\n",
       "      <td>A</td>\n",
       "      <td>A</td>\n",
       "      <td>A</td>\n",
       "      <td>B</td>\n",
       "      <td>A</td>\n",
       "      <td>A</td>\n",
       "      <td>D</td>\n",
       "      <td>A</td>\n",
       "      <td>A</td>\n",
       "      <td>B</td>\n",
       "    </tr>\n",
       "  </tbody>\n",
       "</table>\n",
       "<p>5 rows × 136 columns</p>\n",
       "</div>"
      ],
      "text/plain": [
       "   NU_INSCRICAO  NU_ANO  CO_MUNICIPIO_RESIDENCIA NO_MUNICIPIO_RESIDENCIA  \\\n",
       "0  190001004661    2019                  1506138                Redenção   \n",
       "1  190001004674    2019                  1504208                  Marabá   \n",
       "2  190001004722    2019                  1501402                   Belém   \n",
       "3  190001004735    2019                  1507300      São Félix do Xingu   \n",
       "4  190001004776    2019                  1500800              Ananindeua   \n",
       "\n",
       "   CO_UF_RESIDENCIA SG_UF_RESIDENCIA  NU_IDADE TP_SEXO  TP_ESTADO_CIVIL  \\\n",
       "0                15               PA        17       M                1   \n",
       "1                15               PA        23       M                1   \n",
       "2                15               PA        35       F                2   \n",
       "3                15               PA        23       F                1   \n",
       "4                15               PA        16       F                1   \n",
       "\n",
       "   TP_COR_RACA  ...  Q016  Q017 Q018  Q019 Q020  Q021  Q022  Q023  Q024  Q025  \n",
       "0            3  ...     A     A    A     A    B     A     C     A     B     B  \n",
       "1            3  ...     A     A    A     B    A     A     B     A     A     B  \n",
       "2            1  ...     A     A    A     B    A     B     B     A     A     B  \n",
       "3            3  ...     A     A    A     B    A     A     B     A     A     B  \n",
       "4            3  ...     A     A    A     B    A     A     D     A     A     B  \n",
       "\n",
       "[5 rows x 136 columns]"
      ]
     },
     "execution_count": 2,
     "metadata": {},
     "output_type": "execute_result"
    }
   ],
   "source": [
    "df = pd.read_csv('https://github.com/alura-cursos/imersao-dados-2-2020/blob/master/MICRODADOS_ENEM_2019_SAMPLE_43278.csv?raw=true')\n",
    "df.head()"
   ]
  },
  {
   "cell_type": "code",
   "execution_count": 3,
   "metadata": {},
   "outputs": [],
   "source": [
    "provas = [\"NU_NOTA_CN\", \"NU_NOTA_CH\", \"NU_NOTA_MT\", \"NU_NOTA_LC\", \"NU_NOTA_REDACAO\"]"
   ]
  },
  {
   "cell_type": "code",
   "execution_count": 4,
   "metadata": {},
   "outputs": [],
   "source": [
    "df[\"NU_NOTA_TOTAL\"] = df[provas].sum(axis = 1)"
   ]
  },
  {
   "cell_type": "code",
   "execution_count": 5,
   "metadata": {},
   "outputs": [],
   "source": [
    "df_sem_zero = df.query(\"NU_NOTA_TOTAL != 0\")\n",
    "df_sem_zero = df_sem_zero[provas].dropna()"
   ]
  },
  {
   "cell_type": "markdown",
   "metadata": {},
   "source": [
    "## [Aula 05](https://www.alura.com.br/imersao-dados/aula05-cross-validation-ml) - Validação de modelo e Overfit"
   ]
  },
  {
   "cell_type": "code",
   "execution_count": 6,
   "metadata": {},
   "outputs": [],
   "source": [
    "from sklearn.model_selection import train_test_split\n",
    "from sklearn.svm import LinearSVR\n",
    "from sklearn.metrics import mean_squared_error\n",
    "from sklearn.tree import DecisionTreeRegressor"
   ]
  },
  {
   "cell_type": "code",
   "execution_count": 7,
   "metadata": {},
   "outputs": [],
   "source": [
    "provas_X = [\"NU_NOTA_CH\", \"NU_NOTA_LC\", \"NU_NOTA_CN\", \"NU_NOTA_REDACAO\"]\n",
    "provas_y = \"NU_NOTA_MT\"\n",
    "\n",
    "X = df_sem_zero[provas_X]\n",
    "y = df_sem_zero[provas_y]"
   ]
  },
  {
   "cell_type": "code",
   "execution_count": 8,
   "metadata": {},
   "outputs": [],
   "source": [
    "X_train, X_test, y_train, y_test = train_test_split(X, y, test_size = 0.25, random_state = 1)"
   ]
  },
  {
   "cell_type": "markdown",
   "metadata": {},
   "source": [
    "###### Máquinas de vetores de suporte"
   ]
  },
  {
   "cell_type": "code",
   "execution_count": 9,
   "metadata": {},
   "outputs": [
    {
     "name": "stderr",
     "output_type": "stream",
     "text": [
      "C:\\Users\\Lucas\\Anaconda3\\lib\\site-packages\\sklearn\\svm\\base.py:931: ConvergenceWarning: Liblinear failed to converge, increase the number of iterations.\n",
      "  \"the number of iterations.\", ConvergenceWarning)\n"
     ]
    },
    {
     "data": {
      "text/plain": [
       "23137.66303154942"
      ]
     },
     "execution_count": 9,
     "metadata": {},
     "output_type": "execute_result"
    }
   ],
   "source": [
    "SVR = LinearSVR(random_state = 1)\n",
    "SVR.fit(X_train, y_train)\n",
    "previsao_MT = SVR.predict(X_test)\n",
    "mean_squared_error(y_test, previsao_MT)"
   ]
  },
  {
   "cell_type": "markdown",
   "metadata": {},
   "source": [
    "###### Decision Tree"
   ]
  },
  {
   "cell_type": "code",
   "execution_count": 10,
   "metadata": {},
   "outputs": [],
   "source": [
    "DT = DecisionTreeRegressor(max_depth=3)\n",
    "DT.fit(X_train, y_train)\n",
    "previsao_DT_MT = DT.predict(X_test)"
   ]
  },
  {
   "cell_type": "code",
   "execution_count": 11,
   "metadata": {},
   "outputs": [
    {
     "data": {
      "text/plain": [
       "5949.395274908381"
      ]
     },
     "execution_count": 11,
     "metadata": {},
     "output_type": "execute_result"
    }
   ],
   "source": [
    "mean_squared_error(y_test, previsao_DT_MT)"
   ]
  },
  {
   "cell_type": "markdown",
   "metadata": {},
   "source": [
    "###### Cross validation"
   ]
  },
  {
   "cell_type": "code",
   "execution_count": 12,
   "metadata": {},
   "outputs": [],
   "source": [
    "def calcula_mse(resultados):\n",
    "    media = (resultados[\"test_score\"]*-1).mean()\n",
    "    desvio_padrao = (resultados[\"test_score\"]*-1).std()\n",
    "    lim_inferior = media - (2*desvio_padrao)\n",
    "    lim_superior = media + (2*desvio_padrao)\n",
    "    print(f\"Intervalo de confiança {lim_inferior} - {lim_superior}\")"
   ]
  },
  {
   "cell_type": "code",
   "execution_count": 13,
   "metadata": {
    "scrolled": true
   },
   "outputs": [
    {
     "name": "stdout",
     "output_type": "stream",
     "text": [
      "Intervalo de confiança 5436.11925181106 - 6013.03024857916\n"
     ]
    }
   ],
   "source": [
    "from sklearn.model_selection import cross_validate\n",
    "from sklearn.model_selection import KFold\n",
    "\n",
    "cv = KFold(n_splits = 10, shuffle = True)\n",
    "DT = DecisionTreeRegressor(max_depth=10)\n",
    "resultados = cross_validate(DT, X, y, cv = cv, scoring = \"neg_mean_squared_error\")\n",
    "calcula_mse(resultados)"
   ]
  },
  {
   "cell_type": "code",
   "execution_count": 14,
   "metadata": {},
   "outputs": [],
   "source": [
    "def regressor_arvore(nivel):\n",
    "    cv = KFold(n_splits = 10, shuffle = True)\n",
    "    DT = DecisionTreeRegressor(max_depth=nivel)\n",
    "    resultados = cross_validate(DT, X, y, cv = cv, scoring = \"neg_mean_squared_error\", return_train_score= True)\n",
    "    print(f\"Treino {nivel} = {(resultados['train_score'] * -1).mean()} | Teste {nivel} = {(resultados['test_score'] * -1).mean()}\")"
   ]
  },
  {
   "cell_type": "code",
   "execution_count": 15,
   "metadata": {
    "scrolled": true
   },
   "outputs": [
    {
     "name": "stdout",
     "output_type": "stream",
     "text": [
      "Treino 1 = 7844.977682037682 | Teste 1 = 7857.681065401962\n",
      "Treino 2 = 6527.955856469487 | Teste 2 = 6551.719298628917\n",
      "Treino 3 = 6021.460919388852 | Teste 3 = 6054.064336775983\n",
      "Treino 4 = 5762.073528372823 | Teste 4 = 5813.761080062517\n",
      "Treino 5 = 5599.902200552315 | Teste 5 = 5679.975668701548\n",
      "Treino 6 = 5470.965239179399 | Teste 6 = 5590.47323992963\n",
      "Treino 7 = 5367.067366789544 | Teste 7 = 5543.60134020064\n",
      "Treino 8 = 5277.008303984179 | Teste 8 = 5531.53220703772\n",
      "Treino 9 = 5165.674714355762 | Teste 9 = 5601.767433767646\n",
      "Treino 10 = 5023.291582484358 | Teste 10 = 5733.337600118148\n",
      "Treino 11 = 4835.990930633766 | Teste 11 = 5922.631022908788\n",
      "Treino 12 = 4598.922978320159 | Teste 12 = 6193.10595040599\n",
      "Treino 13 = 4316.594586941543 | Teste 13 = 6478.389856833477\n",
      "Treino 14 = 4008.684982251782 | Teste 14 = 6826.161515288966\n"
     ]
    }
   ],
   "source": [
    "for i in range(1, 15):\n",
    "    regressor_arvore(i)"
   ]
  },
  {
   "cell_type": "markdown",
   "metadata": {},
   "source": [
    "###### Desafio 01 - Pesquisar sobre intervalo de confiança"
   ]
  },
  {
   "cell_type": "markdown",
   "metadata": {},
   "source": [
    "* Um intervalo de confiança (IC) é um intervalo estimado de um parâmetro de interesse de uma população. Em vez de estimar o parâmetro por um único valor, é dado um intervalo de estimativas prováveis.\n",
    "\n",
    "* Intervalos de confiança são usados para indicar a confiabilidade de uma estimativa. Por exemplo, um IC pode ser usado para descrever o quanto os resultados de uma pesquisa são confiáveis. Sendo todas as estimativas iguais, uma pesquisa que resulte num IC pequeno é mais confiável do que uma que resulte num IC maior.\n",
    "\n",
    "* O intervalo de confiança é importante para indicar a margem de incerteza (ou imprecisão) frente a um cálculo efetuado. Esse cálculo usa a amostra do estudo para estimar o tamanho real do resultado na população de origem.\n",
    "\n",
    "As referências bibliográficas se encontram [aqui](http://www.portalaction.com.br/inferencia/intervalo-de-confianca)"
   ]
  },
  {
   "cell_type": "markdown",
   "metadata": {},
   "source": [
    "###### Desafio 02 - Testar com outros parâmetros a árvore de decisão"
   ]
  },
  {
   "cell_type": "code",
   "execution_count": 16,
   "metadata": {},
   "outputs": [],
   "source": [
    "def DTR(nivel, num_folhas):\n",
    "    cv = KFold(n_splits = 10, shuffle=True)\n",
    "    modelo_arvore = DecisionTreeRegressor(max_depth=nivel, min_samples_leaf=num_folhas)\n",
    "    resultados = cross_validate(modelo_arvore, X, y, cv= cv, scoring=\"neg_mean_squared_error\", return_train_score=True)\n",
    "    print(f\"Treino Profundidade {nivel} e nº Folhas {num_folhas} = {(resultados['train_score']*-1).mean()} | Teste Profundidade {nivel} e Folhas {num_folhas} = {(resultados['test_score']*-1).mean()}\\n\\n\")"
   ]
  },
  {
   "cell_type": "code",
   "execution_count": 17,
   "metadata": {
    "scrolled": true
   },
   "outputs": [
    {
     "name": "stdout",
     "output_type": "stream",
     "text": [
      "Treino Profundidade 1 e nº Folhas 1 = 7844.695055430282 | Teste Profundidade 1 e Folhas 1 = 7863.808351280883\n",
      "\n",
      "\n",
      "Treino Profundidade 1 e nº Folhas 2 = 7844.714309544045 | Teste Profundidade 1 e Folhas 2 = 7863.785610956696\n",
      "\n",
      "\n",
      "Treino Profundidade 1 e nº Folhas 3 = 7844.638200457086 | Teste Profundidade 1 e Folhas 3 = 7863.0789065195495\n",
      "\n",
      "\n",
      "Treino Profundidade 1 e nº Folhas 4 = 7845.053089134613 | Teste Profundidade 1 e Folhas 4 = 7860.612404437792\n",
      "\n",
      "\n",
      "Treino Profundidade 1 e nº Folhas 5 = 7844.97870524522 | Teste Profundidade 1 e Folhas 5 = 7865.016741382281\n",
      "\n",
      "\n",
      "Treino Profundidade 2 e nº Folhas 1 = 6528.284646627389 | Teste Profundidade 2 e Folhas 1 = 6552.5280956683155\n",
      "\n",
      "\n",
      "Treino Profundidade 2 e nº Folhas 2 = 6527.953892562085 | Teste Profundidade 2 e Folhas 2 = 6558.384081994833\n",
      "\n",
      "\n",
      "Treino Profundidade 2 e nº Folhas 3 = 6528.41172529818 | Teste Profundidade 2 e Folhas 3 = 6552.154075125317\n",
      "\n",
      "\n",
      "Treino Profundidade 2 e nº Folhas 4 = 6528.101744684726 | Teste Profundidade 2 e Folhas 4 = 6554.743437463255\n",
      "\n",
      "\n",
      "Treino Profundidade 2 e nº Folhas 5 = 6527.841654032506 | Teste Profundidade 2 e Folhas 5 = 6554.7829686145615\n",
      "\n",
      "\n",
      "Treino Profundidade 3 e nº Folhas 1 = 6021.029068112999 | Teste Profundidade 3 e Folhas 1 = 6055.526174914897\n",
      "\n",
      "\n",
      "Treino Profundidade 3 e nº Folhas 2 = 6020.828979125746 | Teste Profundidade 3 e Folhas 2 = 6055.08066768757\n",
      "\n",
      "\n",
      "Treino Profundidade 3 e nº Folhas 3 = 6020.343397480565 | Teste Profundidade 3 e Folhas 3 = 6057.205539734101\n",
      "\n",
      "\n",
      "Treino Profundidade 3 e nº Folhas 4 = 6021.692825076787 | Teste Profundidade 3 e Folhas 4 = 6066.852647983981\n",
      "\n",
      "\n",
      "Treino Profundidade 3 e nº Folhas 5 = 6021.968599250751 | Teste Profundidade 3 e Folhas 5 = 6058.657565724473\n",
      "\n",
      "\n",
      "Treino Profundidade 4 e nº Folhas 1 = 5761.37128292577 | Teste Profundidade 4 e Folhas 1 = 5823.523586714051\n",
      "\n",
      "\n",
      "Treino Profundidade 4 e nº Folhas 2 = 5760.959858607962 | Teste Profundidade 4 e Folhas 2 = 5822.771984042275\n",
      "\n",
      "\n",
      "Treino Profundidade 4 e nº Folhas 3 = 5760.205560424182 | Teste Profundidade 4 e Folhas 3 = 5825.688407470236\n",
      "\n",
      "\n",
      "Treino Profundidade 4 e nº Folhas 4 = 5761.8994169337175 | Teste Profundidade 4 e Folhas 4 = 5825.205084762902\n",
      "\n",
      "\n",
      "Treino Profundidade 4 e nº Folhas 5 = 5761.679184954572 | Teste Profundidade 4 e Folhas 5 = 5813.946622393416\n",
      "\n",
      "\n",
      "Treino Profundidade 5 e nº Folhas 1 = 5601.014232296252 | Teste Profundidade 5 e Folhas 1 = 5679.361796495445\n",
      "\n",
      "\n",
      "Treino Profundidade 5 e nº Folhas 2 = 5601.482564899083 | Teste Profundidade 5 e Folhas 2 = 5678.923276892938\n",
      "\n",
      "\n",
      "Treino Profundidade 5 e nº Folhas 3 = 5599.952110971342 | Teste Profundidade 5 e Folhas 3 = 5687.409718247666\n",
      "\n",
      "\n",
      "Treino Profundidade 5 e nº Folhas 4 = 5600.5179489191905 | Teste Profundidade 5 e Folhas 4 = 5677.328572910878\n",
      "\n",
      "\n",
      "Treino Profundidade 5 e nº Folhas 5 = 5598.779682930547 | Teste Profundidade 5 e Folhas 5 = 5674.626722820852\n",
      "\n",
      "\n",
      "Treino Profundidade 6 e nº Folhas 1 = 5471.456780304254 | Teste Profundidade 6 e Folhas 1 = 5579.960407127721\n",
      "\n",
      "\n",
      "Treino Profundidade 6 e nº Folhas 2 = 5473.994539819285 | Teste Profundidade 6 e Folhas 2 = 5587.534680346623\n",
      "\n",
      "\n",
      "Treino Profundidade 6 e nº Folhas 3 = 5473.495421096594 | Teste Profundidade 6 e Folhas 3 = 5587.765211582363\n",
      "\n",
      "\n",
      "Treino Profundidade 6 e nº Folhas 4 = 5473.133857324828 | Teste Profundidade 6 e Folhas 4 = 5587.346486316753\n",
      "\n",
      "\n",
      "Treino Profundidade 6 e nº Folhas 5 = 5473.769099652834 | Teste Profundidade 6 e Folhas 5 = 5601.167676666691\n",
      "\n",
      "\n",
      "Treino Profundidade 7 e nº Folhas 1 = 5370.37397649644 | Teste Profundidade 7 e Folhas 1 = 5532.443048668416\n",
      "\n",
      "\n",
      "Treino Profundidade 7 e nº Folhas 2 = 5372.355905861803 | Teste Profundidade 7 e Folhas 2 = 5541.246118794806\n",
      "\n",
      "\n",
      "Treino Profundidade 7 e nº Folhas 3 = 5375.515001417945 | Teste Profundidade 7 e Folhas 3 = 5537.924479700998\n",
      "\n",
      "\n",
      "Treino Profundidade 7 e nº Folhas 4 = 5377.365273551423 | Teste Profundidade 7 e Folhas 4 = 5529.142034604661\n",
      "\n",
      "\n",
      "Treino Profundidade 7 e nº Folhas 5 = 5378.301960892813 | Teste Profundidade 7 e Folhas 5 = 5534.899535050916\n",
      "\n",
      "\n",
      "Treino Profundidade 8 e nº Folhas 1 = 5276.092142611682 | Teste Profundidade 8 e Folhas 1 = 5533.775414772465\n",
      "\n",
      "\n",
      "Treino Profundidade 8 e nº Folhas 2 = 5280.990076973954 | Teste Profundidade 8 e Folhas 2 = 5553.320999054482\n",
      "\n",
      "\n",
      "Treino Profundidade 8 e nº Folhas 3 = 5283.4171883076115 | Teste Profundidade 8 e Folhas 3 = 5533.918014162397\n",
      "\n",
      "\n",
      "Treino Profundidade 8 e nº Folhas 4 = 5286.775894813169 | Teste Profundidade 8 e Folhas 4 = 5530.748114149673\n",
      "\n",
      "\n",
      "Treino Profundidade 8 e nº Folhas 5 = 5288.134990645932 | Teste Profundidade 8 e Folhas 5 = 5539.868103509698\n",
      "\n",
      "\n",
      "Treino Profundidade 9 e nº Folhas 1 = 5167.013927869279 | Teste Profundidade 9 e Folhas 1 = 5593.297601373004\n",
      "\n",
      "\n",
      "Treino Profundidade 9 e nº Folhas 2 = 5172.911428079622 | Teste Profundidade 9 e Folhas 2 = 5616.97121594232\n",
      "\n",
      "\n",
      "Treino Profundidade 9 e nº Folhas 3 = 5176.163978627765 | Teste Profundidade 9 e Folhas 3 = 5589.805164089603\n",
      "\n",
      "\n",
      "Treino Profundidade 9 e nº Folhas 4 = 5181.0664787965 | Teste Profundidade 9 e Folhas 4 = 5603.745604944024\n",
      "\n",
      "\n",
      "Treino Profundidade 9 e nº Folhas 5 = 5186.475539075998 | Teste Profundidade 9 e Folhas 5 = 5593.061711638888\n",
      "\n",
      "\n",
      "Treino Profundidade 10 e nº Folhas 1 = 5025.746639799622 | Teste Profundidade 10 e Folhas 1 = 5729.331949028301\n",
      "\n",
      "\n",
      "Treino Profundidade 10 e nº Folhas 2 = 5029.779469851027 | Teste Profundidade 10 e Folhas 2 = 5720.521091743227\n",
      "\n",
      "\n",
      "Treino Profundidade 10 e nº Folhas 3 = 5040.026032609756 | Teste Profundidade 10 e Folhas 3 = 5721.0672662506395\n",
      "\n",
      "\n",
      "Treino Profundidade 10 e nº Folhas 4 = 5044.141424924999 | Teste Profundidade 10 e Folhas 4 = 5706.4110090084105\n",
      "\n",
      "\n",
      "Treino Profundidade 10 e nº Folhas 5 = 5052.201660412701 | Teste Profundidade 10 e Folhas 5 = 5703.722834621367\n",
      "\n",
      "\n"
     ]
    }
   ],
   "source": [
    "for i in range(1, 11):\n",
    "    for j in range(1, 6):\n",
    "        DTR(i, j)"
   ]
  },
  {
   "cell_type": "markdown",
   "metadata": {},
   "source": [
    "* Após realizar os testes, os resultados são parecidos com os obtidos na Aula 05: até um nível de profundidade máxima igual a 8, a árvore apresenta boa relação entre o score de treino e de teste, ou seja, não temos overfitting nem underfitting.\n",
    "\n",
    "* O número de folhas impacta pouco nesses casos, mas contribui para diminuir um pouco o erro obtido nos testes. Para um número grande de profundidade, nos quais começa a ocorrer overfitting, o número de folhas consegue em alguns casos impactar o erro do teste, aproximando ele um pouco mais do erro obtido no treinamento.\n",
    "\n",
    "* Entretanto, nos casos citados anteriormente isso não resolve o problema, pois o overfitting ainda ocorre, mesmo sendo minimizado. Mesmo assim, é interessante notar que o número de folhas pode diminuir esses efeitos dependendo da situação."
   ]
  },
  {
   "cell_type": "markdown",
   "metadata": {},
   "source": [
    "###### Desafio 03 - Procurar outras formas de realizar os ajustes de parâmetros com o Sklearn"
   ]
  },
  {
   "cell_type": "markdown",
   "metadata": {},
   "source": [
    "Para isso, utilizaremos a função [GridSearchSV](https://scikit-learn.org/stable/modules/generated/sklearn.model_selection.GridSearchCV.html), a sua funcionalidade é gerar candidatos a partir de uma grid de parâmetros que são passados pelo **param_grid**"
   ]
  },
  {
   "cell_type": "code",
   "execution_count": 18,
   "metadata": {},
   "outputs": [],
   "source": [
    "from sklearn.model_selection import GridSearchCV"
   ]
  },
  {
   "cell_type": "code",
   "execution_count": 19,
   "metadata": {},
   "outputs": [],
   "source": [
    "DTR = DecisionTreeRegressor()\n",
    "# Os parâmetros que iremos analisar serão a profundidade, e o número mínino de folhas\n",
    "param_grid = {'max_depth': [1, 2, 3], 'min_samples_leaf': [1, 2, 4]}\n",
    "\n",
    "# para isso, iremos buscar os melhores parametros a partir do dicionário 'param_grid'\n",
    "resultados = GridSearchCV(DTR, param_grid, cv=10)\n",
    "\n",
    "# Agora iremos usar os melhores parâmetros encontrados na Validação cruzada\n",
    "resultados2 = cross_validate(resultados, X, y, cv= cv, scoring=\"neg_mean_squared_error\", return_train_score=True)"
   ]
  },
  {
   "cell_type": "code",
   "execution_count": 20,
   "metadata": {},
   "outputs": [
    {
     "name": "stdout",
     "output_type": "stream",
     "text": [
      "Treino= 6020.934794985866 | Teste = 6060.49219356168\n"
     ]
    }
   ],
   "source": [
    "print(f\"Treino= {(resultados2['train_score']*-1).mean()} | Teste = {(resultados2['test_score']*-1).mean()}\")"
   ]
  },
  {
   "cell_type": "markdown",
   "metadata": {},
   "source": [
    "###### Desafio 04 - Pesquisar oque é o problema de underfitting"
   ]
  },
  {
   "cell_type": "markdown",
   "metadata": {},
   "source": [
    "* Underfitting é uma tradução para o inglês de sub-ajustado. Ou seja, nosso modelo não conseguiu aprender suficiente sobre os dados. O underfitting leva à um erro elevado tanto nos dados de treino quando nos dados de teste.\n",
    "* Neste cenário o desempenho do modelo já é ruim no próprio treinamento. O modelo não consegue encontrar relações entre as variáveis e o teste nem precisa acontecer. Este modelo já pode ser descartado, pois não terá utilidade.\n",
    "* Em outras palavras, acontece quando um modelo de aprendizado de máquina não é complexo o suficiente para capturar com precisão as relações entre os recursos de um conjunto de dados e uma variável de destino. Um modelo insuficiente resulta em resultados problemáticos ou errôneos em novos dados, ou dados nos quais não foi treinado, e muitas vezes tem um desempenho ruim, mesmo em dados de treinamento.\n",
    "\n",
    "As referências bibliográficas se encontram [aqui](https://abracd.org/overfitting-e-underfitting-em-machine-learning/)"
   ]
  },
  {
   "cell_type": "markdown",
   "metadata": {},
   "source": [
    "###### Desafio 05 - Plotar um gráfico com test_score e train_test"
   ]
  },
  {
   "cell_type": "code",
   "execution_count": 21,
   "metadata": {},
   "outputs": [],
   "source": [
    "# Resultados do treino\n",
    "train_results=[]\n",
    "# Resultados do teste\n",
    "test_results=[]\n",
    "\n",
    "def DTR(nivel):\n",
    "    cv = KFold(n_splits = 10, shuffle=True)\n",
    "    DTR = DecisionTreeRegressor(max_depth=nivel)\n",
    "    previsoes = cross_validate(DTR, X, y, cv= cv, scoring=\"neg_mean_squared_error\", return_train_score=True)\n",
    "    print(f\"Treino {nivel} = {(previsoes['train_score'] * -1).mean()} | Teste {nivel} = {(previsoes['test_score'] * -1).mean()}\")\n",
    "\n",
    "    train_results.append((previsoes['train_score']*-1).mean())\n",
    "    test_results.append((previsoes['test_score']*-1).mean())"
   ]
  },
  {
   "cell_type": "code",
   "execution_count": 22,
   "metadata": {
    "scrolled": true
   },
   "outputs": [
    {
     "name": "stdout",
     "output_type": "stream",
     "text": [
      "Treino 1 = 7845.084081045936 | Teste 1 = 7856.746187332715\n",
      "Treino 2 = 6528.342418151243 | Teste 2 = 6557.400894985061\n",
      "Treino 3 = 6022.702193400865 | Teste 3 = 6053.495495859241\n",
      "Treino 4 = 5762.317431737345 | Teste 4 = 5818.977975361644\n",
      "Treino 5 = 5597.559308607005 | Teste 5 = 5685.449340458236\n",
      "Treino 6 = 5473.821986994276 | Teste 6 = 5582.80169614691\n",
      "Treino 7 = 5368.641695832159 | Teste 7 = 5526.618915620172\n",
      "Treino 8 = 5275.43190606705 | Teste 8 = 5527.749919867312\n",
      "Treino 9 = 5168.365325930602 | Teste 9 = 5584.14446503787\n",
      "Treino 10 = 5024.22552039998 | Teste 10 = 5728.211641382574\n",
      "Treino 11 = 4836.5328964557275 | Teste 11 = 5943.687384605173\n",
      "Treino 12 = 4598.807642029778 | Teste 12 = 6176.25704577813\n",
      "Treino 13 = 4315.731945027935 | Teste 13 = 6513.099599890817\n",
      "Treino 14 = 4008.7566341398424 | Teste 14 = 6818.289621318625\n",
      "Treino 15 = 3657.8953434542696 | Teste 15 = 7148.072531424002\n"
     ]
    }
   ],
   "source": [
    "for i in range(1, 16):\n",
    "    DTR(i)"
   ]
  },
  {
   "cell_type": "code",
   "execution_count": 23,
   "metadata": {},
   "outputs": [
    {
     "data": {
      "text/plain": [
       "<matplotlib.legend.Legend at 0x46c7de2ec8>"
      ]
     },
     "execution_count": 23,
     "metadata": {},
     "output_type": "execute_result"
    },
    {
     "data": {
      "image/png": "[encoded data removed]",
      "text/plain": [
       "<Figure size 864x432 with 1 Axes>"
      ]
     },
     "metadata": {
      "needs_background": "light"
     },
     "output_type": "display_data"
    }
   ],
   "source": [
    "# Plotando o gráfico com os resultados de treino e teste, armazenados nos vetores train_results e test_results definidos anteriormente\n",
    "#\n",
    "plt.figure(figsize=(12, 6))\n",
    "plt.plot(range(1, 16), train_results, range(1, 16), test_results)\n",
    "plt.title('Treino x Teste')\n",
    "plt.xlabel('Profundidade da Decision Tree')\n",
    "plt.ylabel('MSE - Mean Squared Error')\n",
    "plt.legend(['Resultado do treino','Resultado do teste'])"
   ]
  },
  {
   "cell_type": "markdown",
   "metadata": {},
   "source": [
    "* Podemos observar claramente o comportamento de overfitting esperado da Aula 05: aumentando a profundidade da árvore, o erro de treinamento cai, mas o erro de teste aumenta significativamente. Isso signfica que o modelo entendeu tão bem os dados de teste, que ficou \"viciado\": não consegue lidar com os padrões encontrados nos dados de teste."
   ]
  }
 ],
 "metadata": {
  "kernelspec": {
   "display_name": "Python 3",
   "language": "python",
   "name": "python3"
  },
  "language_info": {
   "codemirror_mode": {
    "name": "ipython",
    "version": 3
   },
   "file_extension": ".py",
   "mimetype": "text/x-python",
   "name": "python",
   "nbconvert_exporter": "python",
   "pygments_lexer": "ipython3",
   "version": "3.7.4"
  }
 },
 "nbformat": 4,
 "nbformat_minor": 2
}
